{
 "cells": [
  {
   "cell_type": "code",
   "execution_count": 1,
   "id": "29f88f10",
   "metadata": {},
   "outputs": [
    {
     "name": "stdout",
     "output_type": "stream",
     "text": [
      "MoviePy - Writing audio in my_result.wav\n"
     ]
    },
    {
     "name": "stderr",
     "output_type": "stream",
     "text": [
      "                                                                                "
     ]
    },
    {
     "name": "stdout",
     "output_type": "stream",
     "text": [
      "MoviePy - Done.\n"
     ]
    },
    {
     "name": "stderr",
     "output_type": "stream",
     "text": [
      "\r"
     ]
    }
   ],
   "source": [
    "import moviepy.editor as mp\n",
    "\n",
    "my_clip = mp.VideoFileClip(r\"test.mp4\")\n",
    "my_clip.audio.write_audiofile(r\"my_result.wav\")"
   ]
  },
  {
   "cell_type": "code",
   "execution_count": 2,
   "id": "562afb68",
   "metadata": {},
   "outputs": [
    {
     "name": "stdout",
     "output_type": "stream",
     "text": [
      "Converting audio transcripts into text ...\n",
      "hello my name is Patricia Espiritu I am 24 years old from the Philippines I have a bachelor's degree in Business Administration major in financial management and I have a tissue and tefl certification I am a bank employee for almost 4 years now where I was at customer service for 2 years I love teaching kids and I'm very excited to make a great impact in your company\n"
     ]
    }
   ],
   "source": [
    "import speech_recognition as sr\n",
    "\n",
    "r = sr.Recognizer()\n",
    "\n",
    "\n",
    "with sr.AudioFile('my_result.wav') as source:\n",
    "    \n",
    "    audio_text = r.listen(source)\n",
    "    \n",
    "    try:\n",
    "        \n",
    "        # using google speech recognition\n",
    "        text = r.recognize_google(audio_text)\n",
    "        print('Converting audio transcripts into text ...')\n",
    "        print(text)\n",
    "     \n",
    "    except:\n",
    "         print('Sorry.. run again...')"
   ]
  },
  {
   "cell_type": "code",
   "execution_count": 3,
   "id": "6ad3f50d",
   "metadata": {},
   "outputs": [
    {
     "name": "stdout",
     "output_type": "stream",
     "text": [
      "Requirement already satisfied: deep-translator in /Users/vinay/anaconda3/lib/python3.10/site-packages (1.11.4)\n",
      "Requirement already satisfied: beautifulsoup4<5.0.0,>=4.9.1 in /Users/vinay/anaconda3/lib/python3.10/site-packages (from deep-translator) (4.11.1)\n",
      "Requirement already satisfied: requests<3.0.0,>=2.23.0 in /Users/vinay/anaconda3/lib/python3.10/site-packages (from deep-translator) (2.28.1)\n",
      "Requirement already satisfied: soupsieve>1.2 in /Users/vinay/anaconda3/lib/python3.10/site-packages (from beautifulsoup4<5.0.0,>=4.9.1->deep-translator) (2.3.2.post1)\n",
      "Requirement already satisfied: charset-normalizer<3,>=2 in /Users/vinay/anaconda3/lib/python3.10/site-packages (from requests<3.0.0,>=2.23.0->deep-translator) (2.0.4)\n",
      "Requirement already satisfied: urllib3<1.27,>=1.21.1 in /Users/vinay/anaconda3/lib/python3.10/site-packages (from requests<3.0.0,>=2.23.0->deep-translator) (1.26.14)\n",
      "Requirement already satisfied: idna<4,>=2.5 in /Users/vinay/anaconda3/lib/python3.10/site-packages (from requests<3.0.0,>=2.23.0->deep-translator) (3.4)\n",
      "Requirement already satisfied: certifi>=2017.4.17 in /Users/vinay/anaconda3/lib/python3.10/site-packages (from requests<3.0.0,>=2.23.0->deep-translator) (2023.7.22)\n",
      "Requirement already satisfied: gtts in /Users/vinay/anaconda3/lib/python3.10/site-packages (2.4.0)\n",
      "Requirement already satisfied: requests<3,>=2.27 in /Users/vinay/anaconda3/lib/python3.10/site-packages (from gtts) (2.28.1)\n",
      "Requirement already satisfied: click<8.2,>=7.1 in /Users/vinay/anaconda3/lib/python3.10/site-packages (from gtts) (8.0.4)\n",
      "Requirement already satisfied: certifi>=2017.4.17 in /Users/vinay/anaconda3/lib/python3.10/site-packages (from requests<3,>=2.27->gtts) (2023.7.22)\n",
      "Requirement already satisfied: idna<4,>=2.5 in /Users/vinay/anaconda3/lib/python3.10/site-packages (from requests<3,>=2.27->gtts) (3.4)\n",
      "Requirement already satisfied: urllib3<1.27,>=1.21.1 in /Users/vinay/anaconda3/lib/python3.10/site-packages (from requests<3,>=2.27->gtts) (1.26.14)\n",
      "Requirement already satisfied: charset-normalizer<3,>=2 in /Users/vinay/anaconda3/lib/python3.10/site-packages (from requests<3,>=2.27->gtts) (2.0.4)\n"
     ]
    }
   ],
   "source": [
    "!pip install -U deep-translator\n",
    "!pip install gtts"
   ]
  },
  {
   "cell_type": "code",
   "execution_count": 4,
   "id": "0ed136c3",
   "metadata": {},
   "outputs": [
    {
     "name": "stdout",
     "output_type": "stream",
     "text": [
      "Speak Translation !\n",
      "~~~~~~~~~~~~~~~~~~~~~~~~~~~~~~~~~~~~~~~~~~~~\n",
      "Speak a stentence...\n",
      "Phase to be Translated :hello my name is Patricia Espiritu I am 24 years old from the Philippines I have a bachelor's degree in Business Administration major in financial management and I have a tissue and tefl certification I am a bank employee for almost 4 years now where I was at customer service for 2 years I love teaching kids and I'm very excited to make a great impact in your company\n"
     ]
    }
   ],
   "source": [
    "import speech_recognition as spr \n",
    "from deep_translator import GoogleTranslator\n",
    "from gtts import gTTS \n",
    "import os \n",
    "\n",
    "\n",
    "# Creating Recogniser() class object \n",
    "recog1 = spr.Recognizer() \n",
    "\n",
    "with spr.AudioFile('my_result.wav') as source:\n",
    "\tprint(\"Speak Translation !\") \n",
    "\tprint(\"~~~~~~~~~~~~~~~~~~~~~~~~~~~~~~~~~~~~~~~~~~~~\") \n",
    "\trecog1.adjust_for_ambient_noise(source, duration=0.2) \n",
    "\taudio = recog1.listen(source) \n",
    "\tMyText = recog1.recognize_google(audio) \n",
    "\tMyText = MyText.lower() \n",
    "\n",
    "\n",
    "\t\n",
    "\t# Translator method for translation \n",
    "\ttranslator = GoogleTranslator() \n",
    "\t\n",
    "\t# short form of english in which \n",
    "\t# you will speak \n",
    "\tfrom_lang = 'en'\n",
    "\t\n",
    "\t# In which we want to convert, short \n",
    "\t# form of hindi \n",
    "\tto_lang = 'hi'\n",
    "\t\n",
    "with spr.AudioFile('my_result.wav') as source:\n",
    "\t\t\n",
    "\t\tprint(\"Speak a stentence...\") \n",
    "\t\trecog1.adjust_for_ambient_noise(source, duration=0.2) \n",
    "\t\t\n",
    "\t\t# Storing the speech into audio variable \n",
    "\t\taudio = recog1.listen(source) \n",
    "\t\t\n",
    "\t\t# Using recognize.google() method to \n",
    "\t\t# convert audio into text \n",
    "\t\tget_sentence = recog1.recognize_google(audio) \n",
    "\n",
    "\t\t# Using try and except block to improve \n",
    "\t\t# its efficiency. \n",
    "\t\ttry: \n",
    "\t\t\t\n",
    "\t\t\t# Printing Speech which need to \n",
    "\t\t\t# be translated. \n",
    "\t\t\tprint(\"Phase to be Translated :\"+ get_sentence) \n",
    "\n",
    "\t\t\t# Using GoogleTranslator() method which requires \n",
    "\t\t\t# three arguments, 1st the sentence which \n",
    "\t\t\t# needs to be translated 2nd source language \n",
    "\t\t\t# and 3rd to which we need to translate in \n",
    "       \n",
    "\t\t\ttext_to_translate = GoogleTranslator(source=from_lang, target=to_lang).translate(get_sentence)\n",
    "\n",
    "    \n",
    "\t\t\t# Storing the translated text in text \n",
    "\t\t\t# variable \n",
    "\t\t\ttext = text_to_translate \n",
    "\n",
    "\t\t\t# Using Google-Text-to-Speech ie, gTTS() method \n",
    "\t\t\t# to speak the translated text into the \n",
    "\t\t\t# destination language which is stored in to_lang. \n",
    "\t\t\t# Also, we have given 3rd argument as False because \n",
    "\t\t\t# by default it speaks very slowly \n",
    "\t\t\tspeak = gTTS(text=text, lang=to_lang, slow= False) \n",
    "\n",
    "\t\t\t# Using save() method to save the translated \n",
    "\t\t\t# speech in capture_voice.mp3 \n",
    "\t\t\tspeak.save(\"captured_voice.mp3\")\t \n",
    "\t\t\t\n",
    "\t\t\t# Using OS module to run the translated voice. \n",
    "# \t\t\tos.system(\"start captured_voice.mp3\") \n",
    "\n",
    "\t\t# Here we are using except block for UnknownValue \n",
    "\t\t# and Request Error and printing the same to \n",
    "\t\t# provide better service to the user. \n",
    "\t\texcept spr.UnknownValueError: \n",
    "\t\t\tprint(\"Unable to Understand the Input\") \n",
    "\t\t\t\n",
    "\t\texcept spr.RequestError as e: \n",
    "\t\t\tprint(\"Unable to provide Required Output\".format(e)) "
   ]
  },
  {
   "cell_type": "code",
   "execution_count": 5,
   "id": "0402552d",
   "metadata": {},
   "outputs": [
    {
     "name": "stdout",
     "output_type": "stream",
     "text": [
      "Moviepy - Building video final.mp4.\n",
      "MoviePy - Writing audio in finalTEMP_MPY_wvf_snd.mp3\n"
     ]
    },
    {
     "name": "stderr",
     "output_type": "stream",
     "text": [
      "                                                                                \r"
     ]
    },
    {
     "name": "stdout",
     "output_type": "stream",
     "text": [
      "MoviePy - Done.\n",
      "Moviepy - Writing video final.mp4\n",
      "\n"
     ]
    },
    {
     "name": "stderr",
     "output_type": "stream",
     "text": [
      "                                                                                \r"
     ]
    },
    {
     "name": "stdout",
     "output_type": "stream",
     "text": [
      "Moviepy - Done !\n",
      "Moviepy - video ready final.mp4\n"
     ]
    }
   ],
   "source": [
    "video_clip = mp.VideoFileClip(\"test.mp4\")\n",
    "audio_clip = mp.AudioFileClip(\"captured_voice.mp3\")\n",
    "\n",
    "final_clip = video_clip.set_audio(audio_clip)\n",
    "final_clip.write_videofile(\"final.mp4\")\n"
   ]
  },
  {
   "cell_type": "code",
   "execution_count": null,
   "id": "ebb7e50e",
   "metadata": {},
   "outputs": [],
   "source": []
  }
 ],
 "metadata": {
  "kernelspec": {
   "display_name": "Python 3 (ipykernel)",
   "language": "python",
   "name": "python3"
  },
  "language_info": {
   "codemirror_mode": {
    "name": "ipython",
    "version": 3
   },
   "file_extension": ".py",
   "mimetype": "text/x-python",
   "name": "python",
   "nbconvert_exporter": "python",
   "pygments_lexer": "ipython3",
   "version": "3.10.9"
  }
 },
 "nbformat": 4,
 "nbformat_minor": 5
}
